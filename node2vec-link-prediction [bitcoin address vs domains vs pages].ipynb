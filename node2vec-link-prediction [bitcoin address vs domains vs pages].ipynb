{
 "cells": [
  {
   "cell_type": "code",
   "execution_count": 1,
   "metadata": {},
   "outputs": [],
   "source": [
    "import pandas as pd\n",
    "from tqdm.notebook import tqdm\n",
    "import numpy as np\n",
    "from tensorflow.keras import Model\n",
    "from tensorflow.keras.optimizers import Adam\n",
    "from tensorflow.keras.layers import Dense, Conv1D, MaxPool1D, Dropout, Flatten\n",
    "from tensorflow.keras.losses import binary_crossentropy\n",
    "import tensorflow as tf\n",
    "from sklearn import model_selection\n",
    "from IPython.display import display, HTML\n",
    "import stellargraph as sg\n",
    "from stellargraph.data import EdgeSplitter\n",
    "from stellargraph.mapper import PaddedGraphGenerator\n",
    "from stellargraph.layer import DeepGraphCNN\n",
    "from stellargraph import StellarGraph\n",
    "from stellargraph import datasets\n",
    "import networkx as nx\n",
    "from stellargraph.data import BiasedRandomWalk\n",
    "from sklearn.manifold import TSNE\n",
    "from sklearn.model_selection import train_test_split\n",
    "from sklearn.linear_model import LogisticRegressionCV\n",
    "from sklearn.metrics import accuracy_score\n",
    "import matplotlib.pyplot as plt\n",
    "import seaborn as sns\n",
    "import scikitplot as skplt\n",
    "from sklearn.ensemble import RandomForestClassifier\n",
    "from sklearn.ensemble import GradientBoostingClassifier\n",
    "from sklearn.ensemble import AdaBoostClassifier\n",
    "from sklearn.ensemble import ExtraTreesClassifier\n",
    "from sklearn.metrics import accuracy_score\n",
    "from sklearn.metrics import precision_score\n",
    "from sklearn.metrics import recall_score\n",
    "from sklearn.metrics import confusion_matrix\n",
    "from sklearn.metrics import classification_report\n",
    "from sklearn.metrics import roc_curve\n",
    "from sklearn.metrics import auc\n",
    "import os\n",
    "import random\n",
    "import stellargraph as sg\n",
    "from stellargraph.data import UnsupervisedSampler\n",
    "from stellargraph.mapper import Attri2VecLinkGenerator, Attri2VecNodeGenerator\n",
    "from stellargraph.layer import Attri2Vec, link_classification\n",
    "import warnings\n",
    "warnings.filterwarnings(\"ignore\")\n",
    "from sklearn.pipeline import Pipeline\n",
    "from sklearn.linear_model import LogisticRegressionCV\n",
    "from sklearn.metrics import roc_auc_score\n",
    "from sklearn.preprocessing import StandardScaler"
   ]
  },
  {
   "cell_type": "code",
   "execution_count": 2,
   "metadata": {},
   "outputs": [],
   "source": [
    "LIMIT = 250"
   ]
  },
  {
   "cell_type": "code",
   "execution_count": 3,
   "metadata": {},
   "outputs": [],
   "source": [
    "bitcoin_address =  pd.read_csv('bitcoin_address.csv',nrows=LIMIT)\n",
    "\n",
    "bitcoin_address_link =  pd.read_csv('bitcoin_address_link.csv',nrows=LIMIT)\n",
    "\n",
    "page =  pd.read_csv('page.csv',nrows=LIMIT)\n",
    "\n",
    "page_link =  pd.read_csv('page_link.csv',nrows=LIMIT)\n",
    "\n",
    "domain =  pd.read_csv('domain.csv',nrows=LIMIT)"
   ]
  },
  {
   "cell_type": "code",
   "execution_count": 4,
   "metadata": {},
   "outputs": [
    {
     "data": {
      "application/vnd.jupyter.widget-view+json": {
       "model_id": "b48d19cb39a340b8a4b40d30edd0476a",
       "version_major": 2,
       "version_minor": 0
      },
      "text/plain": [
       "HBox(children=(FloatProgress(value=1.0, bar_style='info', max=1.0), HTML(value='')))"
      ]
     },
     "metadata": {},
     "output_type": "display_data"
    },
    {
     "name": "stdout",
     "output_type": "stream",
     "text": [
      "\n"
     ]
    },
    {
     "data": {
      "application/vnd.jupyter.widget-view+json": {
       "model_id": "e00253f421f84078a074b438701232e8",
       "version_major": 2,
       "version_minor": 0
      },
      "text/plain": [
       "HBox(children=(FloatProgress(value=1.0, bar_style='info', max=1.0), HTML(value='')))"
      ]
     },
     "metadata": {},
     "output_type": "display_data"
    },
    {
     "name": "stdout",
     "output_type": "stream",
     "text": [
      "\n"
     ]
    },
    {
     "data": {
      "application/vnd.jupyter.widget-view+json": {
       "model_id": "ba097bd3c20f49328caea931ed29494d",
       "version_major": 2,
       "version_minor": 0
      },
      "text/plain": [
       "HBox(children=(FloatProgress(value=1.0, bar_style='info', max=1.0), HTML(value='')))"
      ]
     },
     "metadata": {},
     "output_type": "display_data"
    },
    {
     "name": "stdout",
     "output_type": "stream",
     "text": [
      "\n"
     ]
    },
    {
     "data": {
      "application/vnd.jupyter.widget-view+json": {
       "model_id": "82f5fc261a724802976de3fca1460688",
       "version_major": 2,
       "version_minor": 0
      },
      "text/plain": [
       "HBox(children=(FloatProgress(value=1.0, bar_style='info', max=1.0), HTML(value='')))"
      ]
     },
     "metadata": {},
     "output_type": "display_data"
    },
    {
     "name": "stdout",
     "output_type": "stream",
     "text": [
      "\n"
     ]
    },
    {
     "data": {
      "application/vnd.jupyter.widget-view+json": {
       "model_id": "06077488f24a4982ada8f191e2446987",
       "version_major": 2,
       "version_minor": 0
      },
      "text/plain": [
       "HBox(children=(FloatProgress(value=1.0, bar_style='info', max=1.0), HTML(value='')))"
      ]
     },
     "metadata": {},
     "output_type": "display_data"
    },
    {
     "name": "stdout",
     "output_type": "stream",
     "text": [
      "\n"
     ]
    },
    {
     "data": {
      "application/vnd.jupyter.widget-view+json": {
       "model_id": "efb2cf6537a34cd886b35028911bd725",
       "version_major": 2,
       "version_minor": 0
      },
      "text/plain": [
       "HBox(children=(FloatProgress(value=1.0, bar_style='info', max=1.0), HTML(value='')))"
      ]
     },
     "metadata": {},
     "output_type": "display_data"
    },
    {
     "name": "stdout",
     "output_type": "stream",
     "text": [
      "\n"
     ]
    }
   ],
   "source": [
    "G1 = nx.Graph()\n",
    "node_subjects = {}\n",
    "\n",
    "#insert bitcoin address nodes\n",
    "\n",
    "for index, row in tqdm(bitcoin_address.iterrows()):\n",
    "    G1.add_node(int(row.id))\n",
    "    node_subjects[row.id]=1\n",
    "    \n",
    "#insert pages\n",
    "\n",
    "for index, row in tqdm(page.iterrows()):\n",
    "    G1.add_node(int(row.id))\n",
    "    node_subjects[row.id]=2\n",
    "    \n",
    "#insert page - bitcoin addres edges\n",
    "\n",
    "for index, row in tqdm(bitcoin_address_link.iterrows()):\n",
    "    G1.add_edge(int(row.bitcoin_address), int(row.page))\n",
    "    \n",
    "#insert page - page edges\n",
    "\n",
    "for index, row in tqdm(page_link.iterrows()):\n",
    "    G1.add_edge(int(row.link_from), int(row.link_to ))\n",
    "    \n",
    "    \n",
    "#insert domain\n",
    "\n",
    "for index, row in tqdm(domain.iterrows()):\n",
    "    G1.add_node(int(row.id))\n",
    "    node_subjects[row.id]=3\n",
    "    \n",
    "#insert page - domain edges\n",
    "\n",
    "for index, row in tqdm(page.iterrows()):\n",
    "    G1.add_edge(int(row.id), int(row.domain))\n"
   ]
  },
  {
   "cell_type": "code",
   "execution_count": 37,
   "metadata": {},
   "outputs": [
    {
     "name": "stdout",
     "output_type": "stream",
     "text": [
      "StellarGraph: Undirected multigraph\n",
      " Nodes: 1055, Edges: 733\n",
      "\n",
      " Node types:\n",
      "  default: [1055]\n",
      "    Features: none\n",
      "    Edge types: default-default->default\n",
      "\n",
      " Edge types:\n",
      "    default-default->default: [733]\n",
      "        Weights: all 1 (default)\n",
      "        Features: none\n"
     ]
    }
   ],
   "source": [
    "g1 =  StellarGraph.from_networkx(G1)\n",
    "print(g1.info())"
   ]
  },
  {
   "cell_type": "code",
   "execution_count": 38,
   "metadata": {},
   "outputs": [
    {
     "name": "stdout",
     "output_type": "stream",
     "text": [
      "** Sampled 73 positive and 73 negative edges. **\n",
      "StellarGraph: Undirected multigraph\n",
      " Nodes: 1055, Edges: 660\n",
      "\n",
      " Node types:\n",
      "  default: [1055]\n",
      "    Features: none\n",
      "    Edge types: default-default->default\n",
      "\n",
      " Edge types:\n",
      "    default-default->default: [660]\n",
      "        Weights: all 1 (default)\n",
      "        Features: none\n"
     ]
    }
   ],
   "source": [
    "edge_splitter_test = EdgeSplitter(g1)\n",
    "\n",
    "graph_test, examples_test, labels_test = edge_splitter_test.train_test_split(p=0.1, method=\"global\")\n",
    "\n",
    "print(graph_test.info())"
   ]
  },
  {
   "cell_type": "code",
   "execution_count": 39,
   "metadata": {},
   "outputs": [
    {
     "name": "stdout",
     "output_type": "stream",
     "text": [
      "** Sampled 66 positive and 66 negative edges. **\n",
      "StellarGraph: Undirected multigraph\n",
      " Nodes: 1055, Edges: 594\n",
      "\n",
      " Node types:\n",
      "  default: [1055]\n",
      "    Features: none\n",
      "    Edge types: default-default->default\n",
      "\n",
      " Edge types:\n",
      "    default-default->default: [594]\n",
      "        Weights: all 1 (default)\n",
      "        Features: none\n"
     ]
    }
   ],
   "source": [
    "# Do the same process to compute a training subset from within the test graph\n",
    "edge_splitter_train = EdgeSplitter(graph_test, g1)\n",
    "graph_train, examples, labels = edge_splitter_train.train_test_split(p=0.1, method=\"global\")\n",
    "\n",
    "(examples_train,examples_model_selection,labels_train,labels_model_selection,) = train_test_split(examples, labels, train_size=0.75, test_size=0.25)\n",
    "\n",
    "print(graph_train.info())"
   ]
  },
  {
   "cell_type": "code",
   "execution_count": 40,
   "metadata": {},
   "outputs": [
    {
     "data": {
      "text/html": [
       "<div>\n",
       "<style scoped>\n",
       "    .dataframe tbody tr th:only-of-type {\n",
       "        vertical-align: middle;\n",
       "    }\n",
       "\n",
       "    .dataframe tbody tr th {\n",
       "        vertical-align: top;\n",
       "    }\n",
       "\n",
       "    .dataframe thead th {\n",
       "        text-align: right;\n",
       "    }\n",
       "</style>\n",
       "<table border=\"1\" class=\"dataframe\">\n",
       "  <thead>\n",
       "    <tr style=\"text-align: right;\">\n",
       "      <th></th>\n",
       "      <th>Split</th>\n",
       "      <th>Number of Examples</th>\n",
       "    </tr>\n",
       "  </thead>\n",
       "  <tbody>\n",
       "    <tr>\n",
       "      <th>0</th>\n",
       "      <td>Training Set</td>\n",
       "      <td>99</td>\n",
       "    </tr>\n",
       "    <tr>\n",
       "      <th>1</th>\n",
       "      <td>Model Selection</td>\n",
       "      <td>33</td>\n",
       "    </tr>\n",
       "    <tr>\n",
       "      <th>2</th>\n",
       "      <td>Test set</td>\n",
       "      <td>146</td>\n",
       "    </tr>\n",
       "  </tbody>\n",
       "</table>\n",
       "</div>"
      ],
      "text/plain": [
       "             Split  Number of Examples\n",
       "0     Training Set                  99\n",
       "1  Model Selection                  33\n",
       "2         Test set                 146"
      ]
     },
     "execution_count": 40,
     "metadata": {},
     "output_type": "execute_result"
    }
   ],
   "source": [
    "pd.DataFrame({\n",
    "    'Split':['Training Set','Model Selection','Test set'],\n",
    "    'Number of Examples':[len(examples_train),len(examples_model_selection),len(examples_test)]\n",
    "})"
   ]
  },
  {
   "cell_type": "code",
   "execution_count": 10,
   "metadata": {},
   "outputs": [],
   "source": [
    "import multiprocessing\n",
    "P = 1.0\n",
    "Q = 1.0\n",
    "DIMENSIONS = 128\n",
    "NUMOFWALKS =10\n",
    "WALKOFLENGTH = 80\n",
    "WINDOWSIZE =10\n",
    "NUMITER = 1\n",
    "WORKERS = multiprocessing.cpu_count()"
   ]
  },
  {
   "cell_type": "code",
   "execution_count": 11,
   "metadata": {},
   "outputs": [],
   "source": [
    "from gensim.models import Word2Vec\n",
    "\n",
    "\n",
    "def node2vec_embedding(graph, name):\n",
    "    rw = BiasedRandomWalk(graph)\n",
    "    walks = rw.run(graph.nodes(), n=NUMOFWALKS, length=WALKOFLENGTH, p=P, q=Q)\n",
    "    print(f\"Number of random walks for '{name}': {len(walks)}\")\n",
    "\n",
    "    model = Word2Vec(\n",
    "        walks,\n",
    "        size=DIMENSIONS,\n",
    "        window=WINDOWSIZE,\n",
    "        min_count=0,\n",
    "        sg=1,\n",
    "        workers=WORKERS,\n",
    "        iter=NUMITER,\n",
    "    )\n",
    "\n",
    "    get_embedding = lambda u: model.wv[u]\n",
    "\n",
    "    return get_embedding"
   ]
  },
  {
   "cell_type": "code",
   "execution_count": 12,
   "metadata": {},
   "outputs": [
    {
     "name": "stdout",
     "output_type": "stream",
     "text": [
      "Number of random walks for 'Train Graph': 24850\n"
     ]
    }
   ],
   "source": [
    "embedding_train = node2vec_embedding(graph_train, \"Train Graph\")"
   ]
  },
  {
   "cell_type": "code",
   "execution_count": 13,
   "metadata": {},
   "outputs": [],
   "source": [
    "def linkExamplesToFeatures(linkExamples, transformNode, binaryOperator):\n",
    "    return [binaryOperator(transformNode(src), transformNode(dst)) for src, dst in linkExamples]"
   ]
  },
  {
   "cell_type": "code",
   "execution_count": 14,
   "metadata": {},
   "outputs": [],
   "source": [
    "def trainLinkPredictionModel(linkExamples, linkLabels, getEmbedding, binaryOperator):\n",
    "    classif = linkPredictionClassifier()\n",
    "    linkFeatures = linkExamplesToFeatures(linkExamples, getEmbedding, binaryOperator)\n",
    "    classif.fit(linkFeatures, linkLabels)\n",
    "    return classif"
   ]
  },
  {
   "cell_type": "code",
   "execution_count": 15,
   "metadata": {},
   "outputs": [],
   "source": [
    "def linkPredictionClassifier(max_iter=2000):\n",
    "    lr_clf = LogisticRegressionCV(Cs=10, cv=10, scoring=\"roc_auc\", max_iter=max_iter)\n",
    "    return Pipeline(steps=[(\"sc\", StandardScaler()), (\"clf\", lr_clf)])"
   ]
  },
  {
   "cell_type": "code",
   "execution_count": 25,
   "metadata": {},
   "outputs": [],
   "source": [
    "def evaluateLinkPredictionModel(clf, link_examples_test, link_labels_test, get_embedding, binary_operator):\n",
    "    link_features_test = linkExamplesToFeatures(link_examples_test, get_embedding, binary_operator)\n",
    "    score = evaluate_ROC_AUC(clf, link_features_test, link_labels_test)\n",
    "    return score"
   ]
  },
  {
   "cell_type": "code",
   "execution_count": 26,
   "metadata": {},
   "outputs": [],
   "source": [
    "def evaluate_ROC_AUC(clf, link_features, link_labels):\n",
    "    predicted = clf.predict_proba(link_features)\n",
    "    positive_column = list(clf.classes_).index(1)\n",
    "    return roc_auc_score(link_labels, predicted[:, positive_column])"
   ]
  },
  {
   "cell_type": "code",
   "execution_count": 27,
   "metadata": {},
   "outputs": [],
   "source": [
    "def operator_hadamard(u, v):\n",
    "    return u * v"
   ]
  },
  {
   "cell_type": "code",
   "execution_count": 28,
   "metadata": {},
   "outputs": [],
   "source": [
    "def operator_l1(u, v):\n",
    "    return np.abs(u - v)"
   ]
  },
  {
   "cell_type": "code",
   "execution_count": 29,
   "metadata": {},
   "outputs": [],
   "source": [
    "def operator_l2(u, v):\n",
    "    return (u - v) ** 2"
   ]
  },
  {
   "cell_type": "code",
   "execution_count": 30,
   "metadata": {},
   "outputs": [],
   "source": [
    "def operator_avg(u, v):\n",
    "    return (u + v) / 2.0"
   ]
  },
  {
   "cell_type": "code",
   "execution_count": 31,
   "metadata": {},
   "outputs": [],
   "source": [
    "def run_link_prediction(binary_operator):\n",
    "    clf = trainLinkPredictionModel(examples_train, labels_train, embedding_train, binary_operator)\n",
    "    \n",
    "    score = evaluateLinkPredictionModel(\n",
    "        clf,\n",
    "        examples_model_selection,\n",
    "        labels_model_selection,\n",
    "        embedding_train,\n",
    "        binary_operator,\n",
    "    )\n",
    "\n",
    "    return {\n",
    "        \"classifier\": clf,\n",
    "        \"binary_operator\": binary_operator,\n",
    "        \"score\": score,\n",
    "    }"
   ]
  },
  {
   "cell_type": "code",
   "execution_count": 32,
   "metadata": {},
   "outputs": [],
   "source": [
    "binary_operators = [operator_hadamard, operator_l1, operator_l2, operator_avg]"
   ]
  },
  {
   "cell_type": "code",
   "execution_count": 33,
   "metadata": {},
   "outputs": [
    {
     "name": "stdout",
     "output_type": "stream",
     "text": [
      "Best result from 'operator_l2'\n"
     ]
    },
    {
     "data": {
      "text/html": [
       "<div>\n",
       "<style scoped>\n",
       "    .dataframe tbody tr th:only-of-type {\n",
       "        vertical-align: middle;\n",
       "    }\n",
       "\n",
       "    .dataframe tbody tr th {\n",
       "        vertical-align: top;\n",
       "    }\n",
       "\n",
       "    .dataframe thead th {\n",
       "        text-align: right;\n",
       "    }\n",
       "</style>\n",
       "<table border=\"1\" class=\"dataframe\">\n",
       "  <thead>\n",
       "    <tr style=\"text-align: right;\">\n",
       "      <th></th>\n",
       "      <th>ROC AUC score</th>\n",
       "    </tr>\n",
       "    <tr>\n",
       "      <th>name</th>\n",
       "      <th></th>\n",
       "    </tr>\n",
       "  </thead>\n",
       "  <tbody>\n",
       "    <tr>\n",
       "      <th>operator_hadamard</th>\n",
       "      <td>0.862039</td>\n",
       "    </tr>\n",
       "    <tr>\n",
       "      <th>operator_l1</th>\n",
       "      <td>0.899817</td>\n",
       "    </tr>\n",
       "    <tr>\n",
       "      <th>operator_l2</th>\n",
       "      <td>0.901352</td>\n",
       "    </tr>\n",
       "    <tr>\n",
       "      <th>operator_avg</th>\n",
       "      <td>0.567190</td>\n",
       "    </tr>\n",
       "  </tbody>\n",
       "</table>\n",
       "</div>"
      ],
      "text/plain": [
       "                   ROC AUC score\n",
       "name                            \n",
       "operator_hadamard       0.862039\n",
       "operator_l1             0.899817\n",
       "operator_l2             0.901352\n",
       "operator_avg            0.567190"
      ]
     },
     "execution_count": 33,
     "metadata": {},
     "output_type": "execute_result"
    }
   ],
   "source": [
    "results = [run_link_prediction(op) for op in binary_operators]\n",
    "best_result = max(results, key=lambda result: result[\"score\"])\n",
    "\n",
    "print(f\"Best result from '{best_result['binary_operator'].__name__}'\")\n",
    "\n",
    "pd.DataFrame(\n",
    "    [(result[\"binary_operator\"].__name__, result[\"score\"]) for result in results],\n",
    "    columns=(\"name\", \"ROC AUC score\"),\n",
    ").set_index(\"name\")"
   ]
  },
  {
   "cell_type": "code",
   "execution_count": 34,
   "metadata": {},
   "outputs": [
    {
     "name": "stdout",
     "output_type": "stream",
     "text": [
      "Number of random walks for 'Test Graph': 24850\n"
     ]
    }
   ],
   "source": [
    "embedding_test = node2vec_embedding(graph_test, \"Test Graph\")"
   ]
  },
  {
   "cell_type": "code",
   "execution_count": 36,
   "metadata": {},
   "outputs": [
    {
     "name": "stdout",
     "output_type": "stream",
     "text": [
      "ROC AUC score on test set using 'operator_l2': 0.9000147928994083\n"
     ]
    }
   ],
   "source": [
    "test_score = evaluateLinkPredictionModel(best_result[\"classifier\"],examples_test,labels_test,embedding_test,best_result[\"binary_operator\"],)\n",
    "print(f\"ROC AUC score on test set using '{best_result['binary_operator'].__name__}': {test_score}\")"
   ]
  },
  {
   "cell_type": "code",
   "execution_count": null,
   "metadata": {},
   "outputs": [],
   "source": [
    "# print('LogisticRegressionCV',accuracy_score(y_test,y_pred),\n",
    "#       ' precision : ',precision_score(y_test,y_pred,average='micro'),\n",
    "#       ' recall : ',recall_score(y_test,y_pred,average='micro'),'\\n')\n",
    "# print(classification_report(y_test,y_pred))"
   ]
  },
  {
   "cell_type": "code",
   "execution_count": null,
   "metadata": {},
   "outputs": [],
   "source": [
    "# plt.title(\"Confusion Matrix\")\n",
    "# sns.heatmap(confusion_matrix(y_test, y_pred),annot=True,cmap=\"Blues\",fmt=\"g\",cbar=False)\n",
    "# plt.show()"
   ]
  }
 ],
 "metadata": {
  "kernelspec": {
   "display_name": "Python 3",
   "language": "python",
   "name": "python3"
  },
  "language_info": {
   "codemirror_mode": {
    "name": "ipython",
    "version": 3
   },
   "file_extension": ".py",
   "mimetype": "text/x-python",
   "name": "python",
   "nbconvert_exporter": "python",
   "pygments_lexer": "ipython3",
   "version": "3.8.3"
  }
 },
 "nbformat": 4,
 "nbformat_minor": 4
}
