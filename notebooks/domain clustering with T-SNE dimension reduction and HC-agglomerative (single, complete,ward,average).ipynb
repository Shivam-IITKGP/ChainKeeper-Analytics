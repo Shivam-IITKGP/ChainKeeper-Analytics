{
 "cells": [
  {
   "cell_type": "code",
   "execution_count": 1,
   "metadata": {},
   "outputs": [],
   "source": [
    "import pandas as pd\n",
    "from tqdm.notebook import tqdm\n",
    "import numpy as np\n",
    "from tensorflow.keras import Model\n",
    "from tensorflow.keras.optimizers import Adam\n",
    "from tensorflow.keras.layers import Dense, Conv1D, MaxPool1D, Dropout, Flatten\n",
    "from tensorflow.keras.losses import binary_crossentropy\n",
    "import tensorflow as tf\n",
    "from sklearn import model_selection\n",
    "from IPython.display import display, HTML\n",
    "import stellargraph as sg\n",
    "from stellargraph.data import EdgeSplitter\n",
    "from stellargraph.mapper import PaddedGraphGenerator\n",
    "from stellargraph.layer import DeepGraphCNN\n",
    "from stellargraph import StellarGraph\n",
    "from stellargraph import datasets\n",
    "import networkx as nx\n",
    "from stellargraph.data import BiasedRandomWalk\n",
    "from sklearn.manifold import TSNE\n",
    "from sklearn.model_selection import train_test_split\n",
    "from sklearn.linear_model import LogisticRegressionCV\n",
    "from sklearn.metrics import accuracy_score\n",
    "import matplotlib.pyplot as plt\n",
    "import seaborn as sns\n",
    "import scikitplot as skplt\n",
    "from sklearn.ensemble import RandomForestClassifier\n",
    "from sklearn.ensemble import GradientBoostingClassifier\n",
    "from sklearn.ensemble import AdaBoostClassifier\n",
    "from sklearn.ensemble import ExtraTreesClassifier\n",
    "from sklearn.metrics import accuracy_score\n",
    "from sklearn.metrics import precision_score\n",
    "from sklearn.metrics import recall_score\n",
    "from sklearn.metrics import confusion_matrix\n",
    "from sklearn.metrics import classification_report\n",
    "from sklearn.metrics import roc_curve\n",
    "from sklearn.metrics import auc\n",
    "import os\n",
    "import random\n",
    "import stellargraph as sg\n",
    "from stellargraph.data import UnsupervisedSampler\n",
    "from stellargraph.mapper import Attri2VecLinkGenerator, Attri2VecNodeGenerator\n",
    "from stellargraph.layer import Attri2Vec, link_classification\n",
    "import warnings\n",
    "warnings.filterwarnings(\"ignore\")\n",
    "from sklearn.pipeline import Pipeline\n",
    "from sklearn.linear_model import LogisticRegressionCV\n",
    "from sklearn.metrics import roc_auc_score\n",
    "from sklearn.preprocessing import StandardScaler\n",
    "from sklearn.cluster import DBSCAN\n",
    "from sklearn import metrics\n",
    "from sklearn import preprocessing, feature_extraction, model_selection\n",
    "from sklearn.decomposition import PCA\n",
    "from sklearn.manifold import TSNE\n",
    "import random\n",
    "from tensorflow import keras\n",
    "from stellargraph import globalvar"
   ]
  },
  {
   "cell_type": "code",
   "execution_count": 2,
   "metadata": {},
   "outputs": [],
   "source": [
    "domain =  pd.read_csv('domain.csv',nrows=250)"
   ]
  },
  {
   "cell_type": "code",
   "execution_count": 3,
   "metadata": {},
   "outputs": [
    {
     "data": {
      "text/plain": [
       "Unnamed: 0                 int64\n",
       "id                         int64\n",
       "host                      object\n",
       "port                       int64\n",
       "ssl                        int64\n",
       "is_up                      int64\n",
       "created_at                object\n",
       "visited_at                object\n",
       "title                     object\n",
       "last_alive                object\n",
       "is_crap                    int64\n",
       "is_genuine                 int64\n",
       "is_fake                    int64\n",
       "ssh_fingerprint          float64\n",
       "is_subdomain               int64\n",
       "server                    object\n",
       "powered_by                object\n",
       "dead_in_a_row              int64\n",
       "next_scheduled_check      object\n",
       "is_banned                  int64\n",
       "portscanned_at            object\n",
       "path_scanned_at           object\n",
       "useful_404_scanned_at     object\n",
       "useful_404                 int64\n",
       "useful_404_php             int64\n",
       "useful_404_dir             int64\n",
       "clone_group              float64\n",
       "new_clone_group          float64\n",
       "ban_exempt                 int64\n",
       "manual_genuine             int64\n",
       "language                  object\n",
       "description_json          object\n",
       "description_json_at       object\n",
       "whatweb_at                object\n",
       "dtype: object"
      ]
     },
     "execution_count": 3,
     "metadata": {},
     "output_type": "execute_result"
    }
   ],
   "source": [
    "domain.dtypes"
   ]
  },
  {
   "cell_type": "code",
   "execution_count": 4,
   "metadata": {},
   "outputs": [
    {
     "data": {
      "text/html": [
       "<div>\n",
       "<style scoped>\n",
       "    .dataframe tbody tr th:only-of-type {\n",
       "        vertical-align: middle;\n",
       "    }\n",
       "\n",
       "    .dataframe tbody tr th {\n",
       "        vertical-align: top;\n",
       "    }\n",
       "\n",
       "    .dataframe thead th {\n",
       "        text-align: right;\n",
       "    }\n",
       "</style>\n",
       "<table border=\"1\" class=\"dataframe\">\n",
       "  <thead>\n",
       "    <tr style=\"text-align: right;\">\n",
       "      <th></th>\n",
       "      <th>Unnamed: 0</th>\n",
       "      <th>id</th>\n",
       "      <th>host</th>\n",
       "      <th>port</th>\n",
       "      <th>ssl</th>\n",
       "      <th>is_up</th>\n",
       "      <th>created_at</th>\n",
       "      <th>visited_at</th>\n",
       "      <th>title</th>\n",
       "      <th>last_alive</th>\n",
       "      <th>...</th>\n",
       "      <th>useful_404_php</th>\n",
       "      <th>useful_404_dir</th>\n",
       "      <th>clone_group</th>\n",
       "      <th>new_clone_group</th>\n",
       "      <th>ban_exempt</th>\n",
       "      <th>manual_genuine</th>\n",
       "      <th>language</th>\n",
       "      <th>description_json</th>\n",
       "      <th>description_json_at</th>\n",
       "      <th>whatweb_at</th>\n",
       "    </tr>\n",
       "  </thead>\n",
       "  <tbody>\n",
       "    <tr>\n",
       "      <th>0</th>\n",
       "      <td>0</td>\n",
       "      <td>304845</td>\n",
       "      <td>vfgop7uag7dpxuxq.onion</td>\n",
       "      <td>80</td>\n",
       "      <td>0</td>\n",
       "      <td>0</td>\n",
       "      <td>2020-04-17 07:43:31</td>\n",
       "      <td>2020-06-22 04:24:01</td>\n",
       "      <td>The Pot Shop – Best Pot Ever</td>\n",
       "      <td>2020-06-02 06:50:56</td>\n",
       "      <td>...</td>\n",
       "      <td>1</td>\n",
       "      <td>0</td>\n",
       "      <td>NaN</td>\n",
       "      <td>NaN</td>\n",
       "      <td>0</td>\n",
       "      <td>0</td>\n",
       "      <td>NaN</td>\n",
       "      <td>NaN</td>\n",
       "      <td>2020-05-28 01:50:52</td>\n",
       "      <td>1970-01-01 00:00:00</td>\n",
       "    </tr>\n",
       "    <tr>\n",
       "      <th>1</th>\n",
       "      <td>1</td>\n",
       "      <td>304846</td>\n",
       "      <td>dcounter3sjplzorng2oekjmt6xdaa5qkdc3guypuqranj...</td>\n",
       "      <td>80</td>\n",
       "      <td>0</td>\n",
       "      <td>0</td>\n",
       "      <td>2020-04-17 07:43:33</td>\n",
       "      <td>2020-07-09 22:46:42</td>\n",
       "      <td>NaN</td>\n",
       "      <td>1970-01-01 00:00:00</td>\n",
       "      <td>...</td>\n",
       "      <td>0</td>\n",
       "      <td>0</td>\n",
       "      <td>NaN</td>\n",
       "      <td>NaN</td>\n",
       "      <td>0</td>\n",
       "      <td>0</td>\n",
       "      <td>NaN</td>\n",
       "      <td>NaN</td>\n",
       "      <td>1970-01-01 00:00:00</td>\n",
       "      <td>1970-01-01 00:00:00</td>\n",
       "    </tr>\n",
       "    <tr>\n",
       "      <th>2</th>\n",
       "      <td>2</td>\n",
       "      <td>304847</td>\n",
       "      <td>buygc467q5ez2fg7.onion</td>\n",
       "      <td>80</td>\n",
       "      <td>0</td>\n",
       "      <td>0</td>\n",
       "      <td>2020-04-17 07:43:34</td>\n",
       "      <td>2020-06-22 04:24:01</td>\n",
       "      <td>Amazon Gift Cards</td>\n",
       "      <td>2020-05-22 06:40:58</td>\n",
       "      <td>...</td>\n",
       "      <td>0</td>\n",
       "      <td>1</td>\n",
       "      <td>NaN</td>\n",
       "      <td>NaN</td>\n",
       "      <td>0</td>\n",
       "      <td>0</td>\n",
       "      <td>en</td>\n",
       "      <td>NaN</td>\n",
       "      <td>2020-05-20 10:38:16</td>\n",
       "      <td>1970-01-01 00:00:00</td>\n",
       "    </tr>\n",
       "  </tbody>\n",
       "</table>\n",
       "<p>3 rows × 34 columns</p>\n",
       "</div>"
      ],
      "text/plain": [
       "   Unnamed: 0      id                                               host  \\\n",
       "0           0  304845                             vfgop7uag7dpxuxq.onion   \n",
       "1           1  304846  dcounter3sjplzorng2oekjmt6xdaa5qkdc3guypuqranj...   \n",
       "2           2  304847                             buygc467q5ez2fg7.onion   \n",
       "\n",
       "   port  ssl  is_up           created_at           visited_at  \\\n",
       "0    80    0      0  2020-04-17 07:43:31  2020-06-22 04:24:01   \n",
       "1    80    0      0  2020-04-17 07:43:33  2020-07-09 22:46:42   \n",
       "2    80    0      0  2020-04-17 07:43:34  2020-06-22 04:24:01   \n",
       "\n",
       "                          title           last_alive  ...  useful_404_php  \\\n",
       "0  The Pot Shop – Best Pot Ever  2020-06-02 06:50:56  ...               1   \n",
       "1                           NaN  1970-01-01 00:00:00  ...               0   \n",
       "2             Amazon Gift Cards  2020-05-22 06:40:58  ...               0   \n",
       "\n",
       "   useful_404_dir  clone_group  new_clone_group  ban_exempt manual_genuine  \\\n",
       "0               0          NaN              NaN           0              0   \n",
       "1               0          NaN              NaN           0              0   \n",
       "2               1          NaN              NaN           0              0   \n",
       "\n",
       "  language  description_json  description_json_at           whatweb_at  \n",
       "0      NaN               NaN  2020-05-28 01:50:52  1970-01-01 00:00:00  \n",
       "1      NaN               NaN  1970-01-01 00:00:00  1970-01-01 00:00:00  \n",
       "2       en               NaN  2020-05-20 10:38:16  1970-01-01 00:00:00  \n",
       "\n",
       "[3 rows x 34 columns]"
      ]
     },
     "execution_count": 4,
     "metadata": {},
     "output_type": "execute_result"
    }
   ],
   "source": [
    "domain.head(3)"
   ]
  },
  {
   "cell_type": "code",
   "execution_count": 5,
   "metadata": {},
   "outputs": [],
   "source": [
    "domain =  domain.fillna('0')"
   ]
  },
  {
   "cell_type": "code",
   "execution_count": 6,
   "metadata": {},
   "outputs": [
    {
     "data": {
      "text/html": [
       "<div>\n",
       "<style scoped>\n",
       "    .dataframe tbody tr th:only-of-type {\n",
       "        vertical-align: middle;\n",
       "    }\n",
       "\n",
       "    .dataframe tbody tr th {\n",
       "        vertical-align: top;\n",
       "    }\n",
       "\n",
       "    .dataframe thead th {\n",
       "        text-align: right;\n",
       "    }\n",
       "</style>\n",
       "<table border=\"1\" class=\"dataframe\">\n",
       "  <thead>\n",
       "    <tr style=\"text-align: right;\">\n",
       "      <th></th>\n",
       "      <th>Unnamed: 0</th>\n",
       "      <th>id</th>\n",
       "      <th>host</th>\n",
       "      <th>port</th>\n",
       "      <th>ssl</th>\n",
       "      <th>is_up</th>\n",
       "      <th>created_at</th>\n",
       "      <th>visited_at</th>\n",
       "      <th>title</th>\n",
       "      <th>last_alive</th>\n",
       "      <th>...</th>\n",
       "      <th>useful_404_php</th>\n",
       "      <th>useful_404_dir</th>\n",
       "      <th>clone_group</th>\n",
       "      <th>new_clone_group</th>\n",
       "      <th>ban_exempt</th>\n",
       "      <th>manual_genuine</th>\n",
       "      <th>language</th>\n",
       "      <th>description_json</th>\n",
       "      <th>description_json_at</th>\n",
       "      <th>whatweb_at</th>\n",
       "    </tr>\n",
       "  </thead>\n",
       "  <tbody>\n",
       "    <tr>\n",
       "      <th>0</th>\n",
       "      <td>0</td>\n",
       "      <td>304845</td>\n",
       "      <td>vfgop7uag7dpxuxq.onion</td>\n",
       "      <td>80</td>\n",
       "      <td>0</td>\n",
       "      <td>0</td>\n",
       "      <td>2020-04-17 07:43:31</td>\n",
       "      <td>2020-06-22 04:24:01</td>\n",
       "      <td>The Pot Shop – Best Pot Ever</td>\n",
       "      <td>2020-06-02 06:50:56</td>\n",
       "      <td>...</td>\n",
       "      <td>1</td>\n",
       "      <td>0</td>\n",
       "      <td>0</td>\n",
       "      <td>0</td>\n",
       "      <td>0</td>\n",
       "      <td>0</td>\n",
       "      <td>0</td>\n",
       "      <td>0</td>\n",
       "      <td>2020-05-28 01:50:52</td>\n",
       "      <td>1970-01-01 00:00:00</td>\n",
       "    </tr>\n",
       "    <tr>\n",
       "      <th>1</th>\n",
       "      <td>1</td>\n",
       "      <td>304846</td>\n",
       "      <td>dcounter3sjplzorng2oekjmt6xdaa5qkdc3guypuqranj...</td>\n",
       "      <td>80</td>\n",
       "      <td>0</td>\n",
       "      <td>0</td>\n",
       "      <td>2020-04-17 07:43:33</td>\n",
       "      <td>2020-07-09 22:46:42</td>\n",
       "      <td>0</td>\n",
       "      <td>1970-01-01 00:00:00</td>\n",
       "      <td>...</td>\n",
       "      <td>0</td>\n",
       "      <td>0</td>\n",
       "      <td>0</td>\n",
       "      <td>0</td>\n",
       "      <td>0</td>\n",
       "      <td>0</td>\n",
       "      <td>0</td>\n",
       "      <td>0</td>\n",
       "      <td>1970-01-01 00:00:00</td>\n",
       "      <td>1970-01-01 00:00:00</td>\n",
       "    </tr>\n",
       "    <tr>\n",
       "      <th>2</th>\n",
       "      <td>2</td>\n",
       "      <td>304847</td>\n",
       "      <td>buygc467q5ez2fg7.onion</td>\n",
       "      <td>80</td>\n",
       "      <td>0</td>\n",
       "      <td>0</td>\n",
       "      <td>2020-04-17 07:43:34</td>\n",
       "      <td>2020-06-22 04:24:01</td>\n",
       "      <td>Amazon Gift Cards</td>\n",
       "      <td>2020-05-22 06:40:58</td>\n",
       "      <td>...</td>\n",
       "      <td>0</td>\n",
       "      <td>1</td>\n",
       "      <td>0</td>\n",
       "      <td>0</td>\n",
       "      <td>0</td>\n",
       "      <td>0</td>\n",
       "      <td>en</td>\n",
       "      <td>0</td>\n",
       "      <td>2020-05-20 10:38:16</td>\n",
       "      <td>1970-01-01 00:00:00</td>\n",
       "    </tr>\n",
       "  </tbody>\n",
       "</table>\n",
       "<p>3 rows × 34 columns</p>\n",
       "</div>"
      ],
      "text/plain": [
       "   Unnamed: 0      id                                               host  \\\n",
       "0           0  304845                             vfgop7uag7dpxuxq.onion   \n",
       "1           1  304846  dcounter3sjplzorng2oekjmt6xdaa5qkdc3guypuqranj...   \n",
       "2           2  304847                             buygc467q5ez2fg7.onion   \n",
       "\n",
       "   port  ssl  is_up           created_at           visited_at  \\\n",
       "0    80    0      0  2020-04-17 07:43:31  2020-06-22 04:24:01   \n",
       "1    80    0      0  2020-04-17 07:43:33  2020-07-09 22:46:42   \n",
       "2    80    0      0  2020-04-17 07:43:34  2020-06-22 04:24:01   \n",
       "\n",
       "                          title           last_alive  ...  useful_404_php  \\\n",
       "0  The Pot Shop – Best Pot Ever  2020-06-02 06:50:56  ...               1   \n",
       "1                             0  1970-01-01 00:00:00  ...               0   \n",
       "2             Amazon Gift Cards  2020-05-22 06:40:58  ...               0   \n",
       "\n",
       "   useful_404_dir  clone_group new_clone_group  ban_exempt manual_genuine  \\\n",
       "0               0            0               0           0              0   \n",
       "1               0            0               0           0              0   \n",
       "2               1            0               0           0              0   \n",
       "\n",
       "  language  description_json  description_json_at           whatweb_at  \n",
       "0        0                 0  2020-05-28 01:50:52  1970-01-01 00:00:00  \n",
       "1        0                 0  1970-01-01 00:00:00  1970-01-01 00:00:00  \n",
       "2       en                 0  2020-05-20 10:38:16  1970-01-01 00:00:00  \n",
       "\n",
       "[3 rows x 34 columns]"
      ]
     },
     "execution_count": 6,
     "metadata": {},
     "output_type": "execute_result"
    }
   ],
   "source": [
    "domain.head(3)"
   ]
  },
  {
   "cell_type": "code",
   "execution_count": 7,
   "metadata": {},
   "outputs": [
    {
     "data": {
      "text/plain": [
       "0       nginx/1.14.0 (Ubuntu)\n",
       "1                           0\n",
       "2                 nginx/1.6.2\n",
       "3                       nginx\n",
       "4                       nginx\n",
       "                ...          \n",
       "245        openresty/1.15.8.2\n",
       "246    Apache/2.4.29 (Ubuntu)\n",
       "247                    Apache\n",
       "248                    Apache\n",
       "249                    Apache\n",
       "Name: server, Length: 250, dtype: object"
      ]
     },
     "execution_count": 7,
     "metadata": {},
     "output_type": "execute_result"
    }
   ],
   "source": [
    "domain.server"
   ]
  },
  {
   "cell_type": "code",
   "execution_count": 8,
   "metadata": {},
   "outputs": [
    {
     "data": {
      "text/plain": [
       "0      0\n",
       "1      0\n",
       "2      0\n",
       "3      0\n",
       "4      0\n",
       "      ..\n",
       "245    0\n",
       "246    0\n",
       "247    0\n",
       "248    0\n",
       "249    0\n",
       "Name: description_json, Length: 250, dtype: object"
      ]
     },
     "execution_count": 8,
     "metadata": {},
     "output_type": "execute_result"
    }
   ],
   "source": [
    "domain.description_json"
   ]
  },
  {
   "cell_type": "code",
   "execution_count": 9,
   "metadata": {},
   "outputs": [
    {
     "data": {
      "text/plain": [
       "0      2020-05-28 01:50:52\n",
       "1      1970-01-01 00:00:00\n",
       "2      2020-05-20 10:38:16\n",
       "3      2020-06-02 05:22:23\n",
       "4      2020-05-03 12:13:05\n",
       "              ...         \n",
       "245    2020-06-22 05:19:00\n",
       "246    2020-06-09 17:34:20\n",
       "247    2020-05-01 15:22:48\n",
       "248    2020-05-01 15:22:19\n",
       "249    2020-05-10 01:58:03\n",
       "Name: description_json_at, Length: 250, dtype: object"
      ]
     },
     "execution_count": 9,
     "metadata": {},
     "output_type": "execute_result"
    }
   ],
   "source": [
    "domain.description_json_at"
   ]
  },
  {
   "cell_type": "code",
   "execution_count": 10,
   "metadata": {},
   "outputs": [
    {
     "data": {
      "text/plain": [
       "0      1970-01-01 00:00:00\n",
       "1      1970-01-01 00:00:00\n",
       "2      1970-01-01 00:00:00\n",
       "3      1970-01-01 00:00:00\n",
       "4      1970-01-01 00:00:00\n",
       "              ...         \n",
       "245    1970-01-01 00:00:00\n",
       "246    1970-01-01 00:00:00\n",
       "247    1970-01-01 00:00:00\n",
       "248    1970-01-01 00:00:00\n",
       "249    1970-01-01 00:00:00\n",
       "Name: whatweb_at, Length: 250, dtype: object"
      ]
     },
     "execution_count": 10,
     "metadata": {},
     "output_type": "execute_result"
    }
   ],
   "source": [
    "domain.whatweb_at"
   ]
  },
  {
   "cell_type": "code",
   "execution_count": 11,
   "metadata": {},
   "outputs": [
    {
     "data": {
      "text/plain": [
       "0       0\n",
       "1       0\n",
       "2      en\n",
       "3      en\n",
       "4      en\n",
       "       ..\n",
       "245    en\n",
       "246    en\n",
       "247    en\n",
       "248    en\n",
       "249    en\n",
       "Name: language, Length: 250, dtype: object"
      ]
     },
     "execution_count": 11,
     "metadata": {},
     "output_type": "execute_result"
    }
   ],
   "source": [
    "domain.language"
   ]
  },
  {
   "cell_type": "code",
   "execution_count": 12,
   "metadata": {},
   "outputs": [
    {
     "data": {
      "text/plain": [
       "Index(['Unnamed: 0', 'id', 'host', 'port', 'ssl', 'is_up', 'created_at',\n",
       "       'visited_at', 'title', 'last_alive', 'is_crap', 'is_genuine', 'is_fake',\n",
       "       'ssh_fingerprint', 'is_subdomain', 'server', 'powered_by',\n",
       "       'dead_in_a_row', 'next_scheduled_check', 'is_banned', 'portscanned_at',\n",
       "       'path_scanned_at', 'useful_404_scanned_at', 'useful_404',\n",
       "       'useful_404_php', 'useful_404_dir', 'clone_group', 'new_clone_group',\n",
       "       'ban_exempt', 'manual_genuine', 'language', 'description_json',\n",
       "       'description_json_at', 'whatweb_at'],\n",
       "      dtype='object')"
      ]
     },
     "execution_count": 12,
     "metadata": {},
     "output_type": "execute_result"
    }
   ],
   "source": [
    "domain.columns"
   ]
  },
  {
   "cell_type": "code",
   "execution_count": 13,
   "metadata": {},
   "outputs": [],
   "source": [
    "label_encoder = preprocessing.LabelEncoder()\n",
    "domain['host'] = label_encoder.fit_transform(domain['host'])\n",
    "domain['port'] = label_encoder.fit_transform(domain['port'])\n",
    "domain['ssl'] = label_encoder.fit_transform(domain['ssl'])\n",
    "domain['is_up'] = label_encoder.fit_transform(domain['is_up'])\n",
    "domain['created_at'] = label_encoder.fit_transform(domain['created_at'])\n",
    "domain['visited_at'] = label_encoder.fit_transform(domain['visited_at'])\n",
    "domain['last_alive'] = label_encoder.fit_transform(domain['last_alive'])\n",
    "domain['is_crap'] = label_encoder.fit_transform(domain['is_crap'])\n",
    "domain['is_genuine'] = label_encoder.fit_transform(domain['is_genuine'])\n",
    "domain['is_fake'] = label_encoder.fit_transform(domain['is_fake'])\n",
    "domain['ssh_fingerprint'] = label_encoder.fit_transform(domain['ssh_fingerprint'])\n",
    "domain['is_subdomain'] = label_encoder.fit_transform(domain['is_subdomain'])\n",
    "domain['server'] = label_encoder.fit_transform(domain['server'])\n",
    "domain['powered_by'] = label_encoder.fit_transform(domain['powered_by'])\n",
    "domain['dead_in_a_row'] = label_encoder.fit_transform(domain['dead_in_a_row'])\n",
    "domain['next_scheduled_check'] = label_encoder.fit_transform(domain['next_scheduled_check'])\n",
    "domain['is_banned'] = label_encoder.fit_transform(domain['is_banned'])\n",
    "domain['portscanned_at'] = label_encoder.fit_transform(domain['portscanned_at'])\n",
    "domain['path_scanned_at'] = label_encoder.fit_transform(domain['path_scanned_at'])\n",
    "domain['useful_404_scanned_at'] = label_encoder.fit_transform(domain['useful_404_scanned_at'])\n",
    "domain['useful_404'] = label_encoder.fit_transform(domain['useful_404'])\n",
    "domain['useful_404_dir'] = label_encoder.fit_transform(domain['useful_404_dir'])\n",
    "domain['clone_group'] = label_encoder.fit_transform(domain['clone_group'])\n",
    "domain['new_clone_group'] = label_encoder.fit_transform(domain['new_clone_group'])\n",
    "domain['ban_exempt'] = label_encoder.fit_transform(domain['ban_exempt'])\n",
    "domain['manual_genuine'] = label_encoder.fit_transform(domain['manual_genuine'])\n",
    "domain['language'] = label_encoder.fit_transform(domain['language'])\n",
    "domain['description_json'] = label_encoder.fit_transform(domain['description_json'])\n",
    "domain['description_json_at'] = label_encoder.fit_transform(domain['description_json_at'])\n",
    "domain['whatweb_at'] = label_encoder.fit_transform(domain['whatweb_at'])"
   ]
  },
  {
   "cell_type": "code",
   "execution_count": 14,
   "metadata": {},
   "outputs": [],
   "source": [
    "domainNew = domain[['host','port','ssl','is_up','created_at','visited_at','last_alive','is_crap',\n",
    "                   'is_genuine','is_fake','ssh_fingerprint','is_subdomain','server','powered_by',\n",
    "                    'dead_in_a_row','next_scheduled_check','is_banned','portscanned_at','path_scanned_at',\n",
    "                    'useful_404_scanned_at','useful_404','useful_404_dir','clone_group','new_clone_group','ban_exempt',\n",
    "                    'manual_genuine','language','description_json','description_json_at','whatweb_at'\n",
    "                   ]]"
   ]
  },
  {
   "cell_type": "code",
   "execution_count": 15,
   "metadata": {},
   "outputs": [
    {
     "data": {
      "text/html": [
       "<div>\n",
       "<style scoped>\n",
       "    .dataframe tbody tr th:only-of-type {\n",
       "        vertical-align: middle;\n",
       "    }\n",
       "\n",
       "    .dataframe tbody tr th {\n",
       "        vertical-align: top;\n",
       "    }\n",
       "\n",
       "    .dataframe thead th {\n",
       "        text-align: right;\n",
       "    }\n",
       "</style>\n",
       "<table border=\"1\" class=\"dataframe\">\n",
       "  <thead>\n",
       "    <tr style=\"text-align: right;\">\n",
       "      <th></th>\n",
       "      <th>host</th>\n",
       "      <th>port</th>\n",
       "      <th>ssl</th>\n",
       "      <th>is_up</th>\n",
       "      <th>created_at</th>\n",
       "      <th>visited_at</th>\n",
       "      <th>last_alive</th>\n",
       "      <th>is_crap</th>\n",
       "      <th>is_genuine</th>\n",
       "      <th>is_fake</th>\n",
       "      <th>...</th>\n",
       "      <th>useful_404</th>\n",
       "      <th>useful_404_dir</th>\n",
       "      <th>clone_group</th>\n",
       "      <th>new_clone_group</th>\n",
       "      <th>ban_exempt</th>\n",
       "      <th>manual_genuine</th>\n",
       "      <th>language</th>\n",
       "      <th>description_json</th>\n",
       "      <th>description_json_at</th>\n",
       "      <th>whatweb_at</th>\n",
       "    </tr>\n",
       "  </thead>\n",
       "  <tbody>\n",
       "    <tr>\n",
       "      <th>0</th>\n",
       "      <td>219</td>\n",
       "      <td>0</td>\n",
       "      <td>0</td>\n",
       "      <td>0</td>\n",
       "      <td>0</td>\n",
       "      <td>14</td>\n",
       "      <td>134</td>\n",
       "      <td>0</td>\n",
       "      <td>0</td>\n",
       "      <td>0</td>\n",
       "      <td>...</td>\n",
       "      <td>1</td>\n",
       "      <td>0</td>\n",
       "      <td>0</td>\n",
       "      <td>0</td>\n",
       "      <td>0</td>\n",
       "      <td>0</td>\n",
       "      <td>0</td>\n",
       "      <td>0</td>\n",
       "      <td>132</td>\n",
       "      <td>0</td>\n",
       "    </tr>\n",
       "    <tr>\n",
       "      <th>1</th>\n",
       "      <td>69</td>\n",
       "      <td>0</td>\n",
       "      <td>0</td>\n",
       "      <td>0</td>\n",
       "      <td>1</td>\n",
       "      <td>119</td>\n",
       "      <td>0</td>\n",
       "      <td>0</td>\n",
       "      <td>0</td>\n",
       "      <td>0</td>\n",
       "      <td>...</td>\n",
       "      <td>0</td>\n",
       "      <td>0</td>\n",
       "      <td>0</td>\n",
       "      <td>0</td>\n",
       "      <td>0</td>\n",
       "      <td>0</td>\n",
       "      <td>0</td>\n",
       "      <td>0</td>\n",
       "      <td>0</td>\n",
       "      <td>0</td>\n",
       "    </tr>\n",
       "    <tr>\n",
       "      <th>2</th>\n",
       "      <td>55</td>\n",
       "      <td>0</td>\n",
       "      <td>0</td>\n",
       "      <td>0</td>\n",
       "      <td>2</td>\n",
       "      <td>14</td>\n",
       "      <td>87</td>\n",
       "      <td>0</td>\n",
       "      <td>0</td>\n",
       "      <td>0</td>\n",
       "      <td>...</td>\n",
       "      <td>1</td>\n",
       "      <td>1</td>\n",
       "      <td>0</td>\n",
       "      <td>0</td>\n",
       "      <td>0</td>\n",
       "      <td>0</td>\n",
       "      <td>2</td>\n",
       "      <td>0</td>\n",
       "      <td>90</td>\n",
       "      <td>0</td>\n",
       "    </tr>\n",
       "    <tr>\n",
       "      <th>3</th>\n",
       "      <td>214</td>\n",
       "      <td>0</td>\n",
       "      <td>0</td>\n",
       "      <td>0</td>\n",
       "      <td>3</td>\n",
       "      <td>20</td>\n",
       "      <td>129</td>\n",
       "      <td>0</td>\n",
       "      <td>0</td>\n",
       "      <td>0</td>\n",
       "      <td>...</td>\n",
       "      <td>0</td>\n",
       "      <td>0</td>\n",
       "      <td>0</td>\n",
       "      <td>0</td>\n",
       "      <td>0</td>\n",
       "      <td>0</td>\n",
       "      <td>2</td>\n",
       "      <td>0</td>\n",
       "      <td>134</td>\n",
       "      <td>0</td>\n",
       "    </tr>\n",
       "    <tr>\n",
       "      <th>4</th>\n",
       "      <td>10</td>\n",
       "      <td>0</td>\n",
       "      <td>0</td>\n",
       "      <td>0</td>\n",
       "      <td>4</td>\n",
       "      <td>14</td>\n",
       "      <td>25</td>\n",
       "      <td>0</td>\n",
       "      <td>0</td>\n",
       "      <td>0</td>\n",
       "      <td>...</td>\n",
       "      <td>1</td>\n",
       "      <td>1</td>\n",
       "      <td>0</td>\n",
       "      <td>0</td>\n",
       "      <td>0</td>\n",
       "      <td>0</td>\n",
       "      <td>2</td>\n",
       "      <td>0</td>\n",
       "      <td>24</td>\n",
       "      <td>0</td>\n",
       "    </tr>\n",
       "  </tbody>\n",
       "</table>\n",
       "<p>5 rows × 30 columns</p>\n",
       "</div>"
      ],
      "text/plain": [
       "   host  port  ssl  is_up  created_at  visited_at  last_alive  is_crap  \\\n",
       "0   219     0    0      0           0          14         134        0   \n",
       "1    69     0    0      0           1         119           0        0   \n",
       "2    55     0    0      0           2          14          87        0   \n",
       "3   214     0    0      0           3          20         129        0   \n",
       "4    10     0    0      0           4          14          25        0   \n",
       "\n",
       "   is_genuine  is_fake  ...  useful_404  useful_404_dir  clone_group  \\\n",
       "0           0        0  ...           1               0            0   \n",
       "1           0        0  ...           0               0            0   \n",
       "2           0        0  ...           1               1            0   \n",
       "3           0        0  ...           0               0            0   \n",
       "4           0        0  ...           1               1            0   \n",
       "\n",
       "   new_clone_group  ban_exempt  manual_genuine  language  description_json  \\\n",
       "0                0           0               0         0                 0   \n",
       "1                0           0               0         0                 0   \n",
       "2                0           0               0         2                 0   \n",
       "3                0           0               0         2                 0   \n",
       "4                0           0               0         2                 0   \n",
       "\n",
       "   description_json_at  whatweb_at  \n",
       "0                  132           0  \n",
       "1                    0           0  \n",
       "2                   90           0  \n",
       "3                  134           0  \n",
       "4                   24           0  \n",
       "\n",
       "[5 rows x 30 columns]"
      ]
     },
     "execution_count": 15,
     "metadata": {},
     "output_type": "execute_result"
    }
   ],
   "source": [
    "domainNew.head()"
   ]
  },
  {
   "cell_type": "code",
   "execution_count": 16,
   "metadata": {},
   "outputs": [],
   "source": [
    "GT_TSNE = TSNE(n_components=2).fit_transform(domainNew)"
   ]
  },
  {
   "cell_type": "code",
   "execution_count": 18,
   "metadata": {},
   "outputs": [
    {
     "data": {
      "image/png": "[encoded data removed]",
      "text/plain": [
       "<Figure size 504x504 with 1 Axes>"
      ]
     },
     "metadata": {
      "needs_background": "light"
     },
     "output_type": "display_data"
    }
   ],
   "source": [
    "fig, ax = plt.subplots(figsize=(7,7))\n",
    "plt.scatter([i for i in GT_TSNE], [i for i in GT_TSNE])\n",
    "plt.show()"
   ]
  },
  {
   "cell_type": "code",
   "execution_count": 19,
   "metadata": {},
   "outputs": [
    {
     "data": {
      "image/png": "[encoded data removed]",
      "text/plain": [
       "<Figure size 1440x504 with 1 Axes>"
      ]
     },
     "metadata": {
      "needs_background": "light"
     },
     "output_type": "display_data"
    }
   ],
   "source": [
    "from scipy.cluster.hierarchy import dendrogram, linkage\n",
    "from matplotlib import pyplot as plt\n",
    "\n",
    "linked = linkage(GT_TSNE, 'single')\n",
    "\n",
    "labelList = range(len(GT_TSNE))\n",
    "\n",
    "plt.figure(figsize=(20, 7))\n",
    "dendrogram(linked,\n",
    "            orientation='top',\n",
    "            labels=labelList,\n",
    "            distance_sort='descending',\n",
    "            show_leaf_counts=True)\n",
    "plt.show()"
   ]
  },
  {
   "cell_type": "code",
   "execution_count": 20,
   "metadata": {},
   "outputs": [
    {
     "data": {
      "image/png": "[encoded data removed]",
      "text/plain": [
       "<Figure size 1440x504 with 1 Axes>"
      ]
     },
     "metadata": {
      "needs_background": "light"
     },
     "output_type": "display_data"
    }
   ],
   "source": [
    "from scipy.cluster.hierarchy import dendrogram, linkage\n",
    "from matplotlib import pyplot as plt\n",
    "\n",
    "linked = linkage(GT_TSNE, 'complete')\n",
    "\n",
    "labelList = range(len(GT_TSNE))\n",
    "\n",
    "plt.figure(figsize=(20, 7))\n",
    "dendrogram(linked,\n",
    "            orientation='top',\n",
    "            labels=labelList,\n",
    "            distance_sort='descending',\n",
    "            show_leaf_counts=True)\n",
    "plt.show()"
   ]
  },
  {
   "cell_type": "code",
   "execution_count": 21,
   "metadata": {},
   "outputs": [
    {
     "data": {
      "image/png": "[encoded data removed]",
      "text/plain": [
       "<Figure size 1440x504 with 1 Axes>"
      ]
     },
     "metadata": {
      "needs_background": "light"
     },
     "output_type": "display_data"
    }
   ],
   "source": [
    "from scipy.cluster.hierarchy import dendrogram, linkage\n",
    "from matplotlib import pyplot as plt\n",
    "\n",
    "linked = linkage(GT_TSNE, 'ward')\n",
    "\n",
    "labelList = range(len(GT_TSNE))\n",
    "\n",
    "plt.figure(figsize=(20, 7))\n",
    "dendrogram(linked,\n",
    "            orientation='top',\n",
    "            labels=labelList,\n",
    "            distance_sort='descending',\n",
    "            show_leaf_counts=True)\n",
    "plt.show()"
   ]
  },
  {
   "cell_type": "code",
   "execution_count": 22,
   "metadata": {},
   "outputs": [
    {
     "data": {
      "image/png": "[encoded data removed]",
      "text/plain": [
       "<Figure size 1440x504 with 1 Axes>"
      ]
     },
     "metadata": {
      "needs_background": "light"
     },
     "output_type": "display_data"
    }
   ],
   "source": [
    "from scipy.cluster.hierarchy import dendrogram, linkage\n",
    "from matplotlib import pyplot as plt\n",
    "\n",
    "linked = linkage(GT_TSNE, 'average')\n",
    "\n",
    "labelList = range(len(GT_TSNE))\n",
    "\n",
    "plt.figure(figsize=(20, 7))\n",
    "dendrogram(linked,\n",
    "            orientation='top',\n",
    "            labels=labelList,\n",
    "            distance_sort='descending',\n",
    "            show_leaf_counts=True)\n",
    "plt.show()"
   ]
  },
  {
   "cell_type": "code",
   "execution_count": null,
   "metadata": {},
   "outputs": [],
   "source": []
  }
 ],
 "metadata": {
  "kernelspec": {
   "display_name": "Python 3",
   "language": "python",
   "name": "python3"
  },
  "language_info": {
   "codemirror_mode": {
    "name": "ipython",
    "version": 3
   },
   "file_extension": ".py",
   "mimetype": "text/x-python",
   "name": "python",
   "nbconvert_exporter": "python",
   "pygments_lexer": "ipython3",
   "version": "3.8.3"
  }
 },
 "nbformat": 4,
 "nbformat_minor": 4
}
